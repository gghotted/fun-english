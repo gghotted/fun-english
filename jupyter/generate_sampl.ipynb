{
 "cells": [
  {
   "cell_type": "code",
   "execution_count": 27,
   "metadata": {
    "scrolled": true
   },
   "outputs": [],
   "source": [
    "import os\n",
    "import sys\n",
    "import html\n",
    "\n",
    "cur_dir = os.path.abspath('')\n",
    "root_dir = os.path.dirname(cur_dir)\n",
    "sys.path.append(root_dir)"
   ]
  },
  {
   "cell_type": "code",
   "execution_count": 18,
   "metadata": {},
   "outputs": [],
   "source": [
    "from google_api import translate"
   ]
  },
  {
   "cell_type": "code",
   "execution_count": 31,
   "metadata": {},
   "outputs": [],
   "source": [
    "input_text = '''\n",
    "그룹 레드벨벳 아이린과 슬기가 유닛 활동에 나선다.\n",
    "\n",
    "21일 SM엔터테인먼트는 “레드벨벳 아이린, 슬기가 유닛을 준비하고 있다”며 “앨범 발표 시기는 확정되는 대로 공개할 것”이라고 밝혔다.\n",
    "\n",
    "\n",
    "이로써 아이린과 슬기는 데뷔 후 6년 만에 레드벨벳 중 처음으로 유닛을 결성하게 됐다. 특히 두 사람은 데뷔 전 SM루키즈 소속 SR14G 슬기 앤 아이린으로 호흡을 맞춘 바 있어 이번 활동에 대한 팬들의 기대가 높아지고 있다.\n",
    "\n",
    "또 레드벨벳 내 각각 메인댄서와 리드댄서로 활약하고 있는 아이린과 슬기가 유닛 활동으로 어떤 퍼포먼스를 선보일지 관심이 모아지고 있다.\n",
    "\n",
    "한편 레드벨벳은 지난해 12월 ‘사이코(Psycho)‘ 발매 후 개별 활동을 이어오고 있다.\n",
    "'''\n",
    "output_text= translate(input_text)"
   ]
  },
  {
   "cell_type": "code",
   "execution_count": 32,
   "metadata": {
    "scrolled": true
   },
   "outputs": [
    {
     "name": "stdout",
     "output_type": "stream",
     "text": [
      "The group Red Velvet Irene and Seulgi go on unit activities\n",
      " On the 21st, SM Entertainment said, \"Red Velvet Irene, Seulgi are preparing the unit\n",
      "\" As a result, Irene and Seulgi formed their first unit among the Red Velvets six years after their debut\n",
      " In particular, the two of them had a breath with SR14G Seulgi and Irene belonging to SM Rookies before their debut, and their expectations for this activity are rising\n",
      " In addition, Irene and Seulgi, who are active as main dancers and lead dancers in Red Velvet, are attracting attention as to what kind of performance they will show\n",
      " Meanwhile, Red Velvet has continued its individual activities since the release of 'Psycho' in December of last year\n",
      "\n"
     ]
    }
   ],
   "source": [
    "for sentence in output_text.split('.'):\n",
    "    print(html.unescape(sentence))"
   ]
  },
  {
   "cell_type": "code",
   "execution_count": 39,
   "metadata": {},
   "outputs": [],
   "source": [
    "input_text = '''\n",
    "그룹 레드벨벳 아이린과 슬기가 유닛 활동에 나선다.\n",
    "\n",
    "21일 SM엔터테인먼트는 \"레드벨벳 아이린, 슬기가 유닛을 준비하고 있다\"며 \"앨범 발표 시기는 확정되는 대로 공개할 것\"이라고 밝혔다.\n",
    "\n",
    "\n",
    "이로써 아이린과 슬기는 데뷔 후 6년 만에 레드벨벳 중 처음으로 유닛을 결성하게 됐다. 특히 두 사람은 데뷔 전 SM루키즈 소속 SR14G 슬기 앤 아이린으로 호흡을 맞춘 바 있어 이번 활동에 대한 팬들의 기대가 높아지고 있다.\n",
    "\n",
    "또 레드벨벳 내 각각 메인댄서와 리드댄서로 활약하고 있는 아이린과 슬기가 유닛 활동으로 어떤 퍼포먼스를 선보일지 관심이 모아지고 있다.\n",
    "\n",
    "한편 레드벨벳은 지난해 12월 \"사이코(Psycho)\" 발매 후 개별 활동을 이어오고 있다.\n",
    "'''\n",
    "output_text= translate(input_text)\n",
    "\n",
    "for sentence in output_text.split('.'):\n",
    "    print(html.unescape(sentence))"
   ]
  },
  {
   "cell_type": "code",
   "execution_count": 40,
   "metadata": {},
   "outputs": [],
   "source": [
    "split = input_text.split('.')"
   ]
  },
  {
   "cell_type": "code",
   "execution_count": 48,
   "metadata": {},
   "outputs": [
    {
     "data": {
      "text/plain": [
       "[None, None, None, None, None, None, None]"
      ]
     },
     "execution_count": 48,
     "metadata": {},
     "output_type": "execute_result"
    }
   ],
   "source": [
    "split_strip = list(map(lambda s: None, split))\n",
    "split_strip"
   ]
  }
 ],
 "metadata": {
  "kernelspec": {
   "display_name": "Python 3",
   "language": "python",
   "name": "python3"
  },
  "language_info": {
   "codemirror_mode": {
    "name": "ipython",
    "version": 3
   },
   "file_extension": ".py",
   "mimetype": "text/x-python",
   "name": "python",
   "nbconvert_exporter": "python",
   "pygments_lexer": "ipython3",
   "version": "3.7.4"
  }
 },
 "nbformat": 4,
 "nbformat_minor": 4
}
